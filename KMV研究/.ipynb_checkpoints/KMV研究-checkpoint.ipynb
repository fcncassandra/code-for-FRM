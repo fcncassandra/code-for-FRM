{
 "cells": [
  {
   "cell_type": "markdown",
   "id": "3963cbd0-b7c5-45d4-9555-c8fdef400c1a",
   "metadata": {},
   "source": [
    "# KMV违约概率估计"
   ]
  },
  {
   "cell_type": "markdown",
   "id": "5c1a0489-beea-42d1-9b64-58e01ed472b1",
   "metadata": {},
   "source": [
    "FRM对信用风险的度量有以下4种的违约概率计算方式：\n",
    "- 1 评级变化，利用评级机构对不同评级公司的转移矩阵计算，有点像[互联网金融风控的滚动率分析](https://zhuanlan.zhihu.com/p/81027037)  \n",
    "- 2 公司债计算违约概率，公司的违约风险会体现在更高的债券收益率上\n",
    "- 3 Merton：将上市公司股票价格和债券等类比为看涨期权，然后利用BSM公式推导\n",
    "- 4 KMV：比Merton更好的估计一个范围"
   ]
  },
  {
   "cell_type": "markdown",
   "id": "36a0e3f9-0c07-4887-8ffd-4508d55fa589",
   "metadata": {},
   "source": [
    "要了解KMV，就必须了解Merton模型，也必须了解期权的基础理论和BSM期权定价公式"
   ]
  },
  {
   "cell_type": "markdown",
   "id": "728f2c8e-87c5-490c-b036-3e6e8a5caa2b",
   "metadata": {},
   "source": [
    "## 期权理论"
   ]
  },
  {
   "cell_type": "markdown",
   "id": "f39fe241-2c14-4cc4-bea2-fae94ecb8761",
   "metadata": {},
   "source": [
    "期权，是指一种合约，源于十八世纪后期的美国和欧洲市场，该合约赋予持有人在某一特定日期或该日之前的任何时间以固定价格购进或售出一种资产的权利。"
   ]
  },
  {
   "cell_type": "markdown",
   "id": "b2abc41e-a21b-4a75-b3c4-3fc2993db716",
   "metadata": {},
   "source": [
    "期权会约定一个执行价格X，看涨看跌期权有所不同：\n",
    "- 看涨期权，也叫call option，指未来可以以X价格买入该股票，所以如果股票价格超过X，期权就可以行权获取股票，然后到市场卖出获取收入\n",
    "- 看跌期权，也叫put optopn，指未来可以以X价格卖出该股票，所以如果股票价格小于X，期权就可以行权直接卖给期权的买方获取收入"
   ]
  },
  {
   "cell_type": "markdown",
   "id": "fade5121-b3e4-4b82-b067-fcc2375b7670",
   "metadata": {},
   "source": [
    "期权的买方和卖方的权利义务是：\n",
    "- 买方，也叫long方，会支付期权费用，但是可以决定不行权，所以损失最多就是期权费，收益相对无限  \n",
    "- 卖方，也叫short/written方，会收取期权费，但是如果买方行权自己必须被动接受，所以损失相对无限，但是收益有限。为了确定能够被行权，卖方还要支付一定的保证金，而买方不太需要"
   ]
  },
  {
   "cell_type": "markdown",
   "id": "4ff61969-e974-4692-9015-7517913d12b2",
   "metadata": {},
   "source": [
    "期权分为看涨期权和看跌期权，由于期权的买卖方权利是不对等的，所以能够形成不同的四象限收益：\n",
    "- Long call: $c_T=Max (0, S_T-X) – c_0$\n",
    "- Short call: $c_T=-Max (0, S_T-X) + c_0$\n",
    "- Long put: $p_T= Max (0, X-S_T) – p_0$\n",
    "- Short put: $p_T= -Max (0, X-S_T)+ p_0$  \n",
    "\n",
    "以上的S是行权日的股票价格，c/p是购买看涨/看跌期权时的支付的费用"
   ]
  },
  {
   "cell_type": "markdown",
   "id": "4e69f14d-45c1-4c97-9fa9-321ad868cb51",
   "metadata": {},
   "source": [
    "![](./KMV研究.assets/期权收益.png)"
   ]
  },
  {
   "cell_type": "markdown",
   "id": "486f1606-8298-41a3-a31d-f06238c7999d",
   "metadata": {},
   "source": [
    "## BSM"
   ]
  },
  {
   "cell_type": "markdown",
   "id": "32555144-4eaf-4e45-8191-8e40704e2b21",
   "metadata": {},
   "source": [
    "期权定价一直是金融界的难题，直到1973年有专家推导出了业界认可的定价公式：布莱克-斯科尔斯模型"
   ]
  },
  {
   "cell_type": "markdown",
   "id": "409ed191-4fab-430d-ac2d-df683852f8a5",
   "metadata": {},
   "source": [
    "布莱克-斯科尔斯模型，描述金融市场并对金融市场中的金融衍生产品进行定价的一种数学模型。1973年由美国经济学家布莱克和斯科尔斯（Myron Scholes，1941-）提出，故称。美国经济学家莫顿（Rpbert C. Merton，1944—）对此模型进行了数学解释，故该模型又称“布莱克-斯科尔斯-莫顿模型”。"
   ]
  },
  {
   "cell_type": "markdown",
   "id": "2bd3ce44-fec4-412e-bca0-56024271da14",
   "metadata": {},
   "source": [
    "BSM基于伊藤引理的进行推导："
   ]
  },
  {
   "cell_type": "markdown",
   "id": "1d9f3161-d3bc-4c8c-b939-cba487b1506d",
   "metadata": {},
   "source": [
    "$$\\frac{\\partial f}{\\partial t} + \\frac{1}{2}\\sigma^2S^2\\frac{\\partial^2f}{\\partial S^2} + rS\\frac{\\partial f}{\\partial S} - rf = 0$$"
   ]
  },
  {
   "cell_type": "markdown",
   "id": "387ae793-cea8-4d13-9bd9-f54da98ce9c1",
   "metadata": {},
   "source": [
    "BSM的公式结果：\n",
    "- 看涨期权价值：$C = SN(d_1) - Ke^{-rT}N(d_2)$\n",
    "- 看跌期权价值：$P = Ke^{-rT}N(-d_2)- SN(-d_1) $\n",
    "- $d_{1,2} = \\frac{ln(S/Ke^{-rT})}{\\sigma\\sqrt T} \\pm \\frac{\\sigma\\sqrt T}{2}$"
   ]
  },
  {
   "cell_type": "markdown",
   "id": "8e63e33f-032a-4814-8573-43bed4fd3377",
   "metadata": {},
   "source": [
    "其中：\n",
    "- S是股票当前价格\n",
    "- K是期权约定的执行价格\n",
    "- r是无风险利率，如国债利率\n",
    "- T是期权从现在到行权日的时间  \n",
    "- $\\sigma$是股票收益率的波动率\n",
    "- $N(d_1)$是期权的$\\Delta$，也即股价变动对期权价格变动的影响\n",
    "- $N(d_2)$是期权的行权概率\n",
    "- N是累计正态分布，通过对d1和d2计算后查表可以得到$N(d_1)$和$N(d_2)$"
   ]
  },
  {
   "cell_type": "markdown",
   "id": "86232cf3-206c-42aa-b736-94ba8de4e19c",
   "metadata": {},
   "source": [
    "### 核心假设"
   ]
  },
  {
   "cell_type": "markdown",
   "id": "2064f8a4-40a9-4cea-abe3-e92b91986058",
   "metadata": {},
   "source": [
    "最初的布莱克-斯科尔斯模型基于一个核心假设，即市场由至少一种风险资产(如股票)和一种(本质上)无风险资产(如货币市场基金、现金或政府债券)组成。此外，它假定了两种资产的三种属性，以及市场本身的四种属性：\n",
    "\n",
    "对市场资产的假设为：\n",
    "- 1：无风险资产的收益率是恒定的(因此实际上表现为利率)；\n",
    "- 2：根据几何布朗运动，假定风险资产价格的瞬时对数收益表现为具有恒定漂移和波动的无穷小随机游动；\n",
    "- 3：风险资产不支付股息。\n",
    "\n",
    "对市场本身的假设是：\n",
    "- 1：不存在套利(无风险利润)机会；\n",
    "- 2：可以以与无风险资产利率相同的利率借入和借出任何数量的现金；\n",
    "- 3：可以买卖任何数量的股票(包括卖空)；\n",
    "- 4：市场上没有交易成本(即没有买卖证券或衍生工具的佣金)。"
   ]
  },
  {
   "cell_type": "markdown",
   "id": "42e1b5df-e4e3-4451-8f3b-9c973c085807",
   "metadata": {},
   "source": [
    "参考：\n",
    "- https://wiki.mbalib.com/wiki/%E5%B8%83%E8%8E%B1%E5%85%8B%E2%80%94%E8%88%92%E5%B0%94%E6%96%AF%E6%9C%9F%E6%9D%83%E5%AE%9A%E4%BB%B7%E6%A8%A1%E5%9E%8B\n",
    "- https://baijiahao.baidu.com/s?id=1665539640581274539&wfr=spider&for=pc"
   ]
  },
  {
   "cell_type": "markdown",
   "id": "788bd327-e7ce-463d-9669-b6f5747b8f97",
   "metadata": {},
   "source": [
    "## Merton Model"
   ]
  },
  {
   "cell_type": "markdown",
   "id": "b81dc7b0-39cc-47da-809b-288bb6c48861",
   "metadata": {},
   "source": [
    "### 模型想法"
   ]
  },
  {
   "cell_type": "markdown",
   "id": "d9dd74ba-7a45-4f8b-bbab-d6b2680b1a22",
   "metadata": {},
   "source": [
    "一个公司的股价上涨，债券违约概率理论上会下降，但是具体关系是什么呢？"
   ]
  },
  {
   "cell_type": "markdown",
   "id": "4ca9c3fc-8c7c-4494-8265-4963a1735927",
   "metadata": {},
   "source": [
    "Assets(资产) = Debt(负债) + Equity(所有者权益)"
   ]
  },
  {
   "cell_type": "markdown",
   "id": "64cde9f6-e064-4476-b299-f968039741a9",
   "metadata": {},
   "source": [
    "我们更加关注公司的真实价值，也就是Equity，E：\n",
    "- 如果A<D，则资不抵债，所以E就是为0 \n",
    "- 如果A>D，则钱先还债，所以E就是A-D"
   ]
  },
  {
   "cell_type": "markdown",
   "id": "20a3c27b-d02b-4b44-bef1-f626e2ad4bcd",
   "metadata": {},
   "source": [
    "所以推得：E = max{A-D, 0}   \n",
    "该结果非常像call option 看涨期权，经过这一步联想，莫顿模型就形成了"
   ]
  },
  {
   "cell_type": "markdown",
   "id": "45f3fce4-e092-4337-be5b-95156f699894",
   "metadata": {},
   "source": [
    "故公司的实际价值$V_E$就等同于公司的期权价值，等于公司的资产价值$V_A$-风险债务价值$V_D$"
   ]
  },
  {
   "cell_type": "markdown",
   "id": "b5d091b3-328c-4661-80e9-d0f035fabc2e",
   "metadata": {},
   "source": [
    "### 模型计算"
   ]
  },
  {
   "cell_type": "markdown",
   "id": "24454909-439c-47d5-a0dd-92e86136adae",
   "metadata": {},
   "source": [
    "根据BSM的公式：$C = SN(d_1) - Ke^{-rT}N(d_2)$"
   ]
  },
  {
   "cell_type": "markdown",
   "id": "94127765-7b6e-4198-9393-53c0be1d803d",
   "metadata": {},
   "source": [
    "$d_{1,2} = \\frac{ln(S/Ke^{-rT})}{\\sigma\\sqrt T} \\pm \\frac{\\sigma\\sqrt T}{2}$"
   ]
  },
  {
   "cell_type": "markdown",
   "id": "95d6f5f2-5eed-4837-addc-89850647deba",
   "metadata": {},
   "source": [
    "其中：\n",
    "- S 原本是股票的当前价格，现在可以看成公司的总资产价值，用V表示(firm value)\n",
    "- K 原本是期权的行权价格，现在可以看成公司的账面负债，用F表示(face value of debt)\n",
    "- $N(d_2)$ 原本是行权概率，现在可以看成P(V>F)，资产高于负债，不违约的概率，则违约概率PD = 1-$N(d_2)$ = $N(-d_2)$"
   ]
  },
  {
   "cell_type": "markdown",
   "id": "838ac5ac-1866-4917-ade8-b282ef261800",
   "metadata": {},
   "source": [
    "#### 模型中间结果-公式1（和最终结果无关）"
   ]
  },
  {
   "cell_type": "markdown",
   "id": "5e136bd5-723c-4934-afda-357827b6b7fd",
   "metadata": {},
   "source": [
    "得到公司真实价值：$E = VN(d_1) - Fe^{-rT}N(d_2)$"
   ]
  },
  {
   "cell_type": "markdown",
   "id": "66f5009f-ad89-465b-b2a2-10efe57747fb",
   "metadata": {},
   "source": [
    "#### 模型中间结果-公式2（和最终结果无关）"
   ]
  },
  {
   "cell_type": "markdown",
   "id": "00b1ccb1-8333-4ede-8fe2-2272e3317ef7",
   "metadata": {},
   "source": [
    "得到公司真实负债：$D = A - E = V - E$"
   ]
  },
  {
   "cell_type": "markdown",
   "id": "eb39a816-3807-443c-9413-0f2d43dcbed1",
   "metadata": {},
   "source": [
    "另一种计算方法：又因为期权的平价公式：$P+V = Fe^{-rT} + E$，所以D也可以为$Fe^{-rT} - P$，其中P是相当于是对公司做了put option"
   ]
  },
  {
   "cell_type": "markdown",
   "id": "a0b375d8-08a9-43d2-8690-5955bf296bdb",
   "metadata": {},
   "source": [
    "#### 模型中间结果-公式3（和最终结果无关）"
   ]
  },
  {
   "cell_type": "markdown",
   "id": "0c5b7844-d58e-4724-b7a1-d16c4cba5795",
   "metadata": {},
   "source": [
    "公司的信用价差Credit Spread = $\\frac{1}{T}ln(\\frac{F}{D}) - r$"
   ]
  },
  {
   "cell_type": "markdown",
   "id": "54b5c6ed-b69f-4719-8343-1811aa7799b0",
   "metadata": {},
   "source": [
    "F是公司的账面负债，D是实际的负债，所以ln(F/D)就是在求到期收益率YTM"
   ]
  },
  {
   "cell_type": "markdown",
   "id": "b638b1c3-b22b-4568-96c2-11ad092b02f4",
   "metadata": {},
   "source": [
    "如：一张5年零息债券的面值是1000，现值是600，则$(1+YTM)^5 =  1000 / 600$"
   ]
  },
  {
   "cell_type": "markdown",
   "id": "7dedd05a-3630-4b17-bbab-1d0177079d1f",
   "metadata": {},
   "source": [
    "#### 模型最终结果-违约概率"
   ]
  },
  {
   "cell_type": "markdown",
   "id": "c9077aac-6f07-4d76-a2b6-c271a25b5745",
   "metadata": {},
   "source": [
    "$d_{1,2} = \\frac{ln(S/Ke^{-rT})}{\\sigma\\sqrt T} \\pm \\frac{\\sigma\\sqrt T}{2} = \\frac{ln(V/Fe^{-rT})}{\\sigma\\sqrt T} \\pm \\frac{\\sigma\\sqrt T}{2}$"
   ]
  },
  {
   "cell_type": "markdown",
   "id": "1974c69b-5c2b-4c64-9eae-566984dccdd4",
   "metadata": {},
   "source": [
    "模型最终还是为了求这个PD = 1-$N(d_2)$ = $N(-d_2)$，上面这个式子的所有参数都已知，可以直接求($\\sigma$ 是股票收益率标准差)"
   ]
  },
  {
   "cell_type": "markdown",
   "id": "a706ead4-a863-4d6e-85cb-5d5a5cf361c7",
   "metadata": {},
   "source": [
    "### 模型问题"
   ]
  },
  {
   "cell_type": "markdown",
   "id": "3d19bcc7-4083-44c5-8f6c-f030cd59f316",
   "metadata": {},
   "source": [
    "**问题：资产小于负债不一定违约！**"
   ]
  },
  {
   "cell_type": "markdown",
   "id": "a0a2c1be-3ae5-45c4-a69d-810fad579947",
   "metadata": {},
   "source": [
    "## KMV"
   ]
  },
  {
   "cell_type": "markdown",
   "id": "b8ef3e28-ccfb-4c21-9924-ba4908ce296f",
   "metadata": {},
   "source": [
    "### 模型背景"
   ]
  },
  {
   "cell_type": "markdown",
   "id": "68a5dbba-7be2-441e-a6f4-8a90e8219ae8",
   "metadata": {},
   "source": [
    "KMV模型是美国旧金山市KMV公司于1997年建立的用来估计借款企业违约概率的方法。  \n",
    "KMV公司没那么有名，但是利用KMV model的DD成功预测了安然公司违约事件"
   ]
  },
  {
   "cell_type": "markdown",
   "id": "a9888b04-183e-42b1-b421-e3cc705c6959",
   "metadata": {},
   "source": [
    "### 模型想法"
   ]
  },
  {
   "cell_type": "markdown",
   "id": "b9405b3b-ab10-429d-af78-9b73e3f417cb",
   "metadata": {},
   "source": [
    "资产如果远超于负债，违约概率就会比较小，所以可以界定一个范围，给定一个门槛K  \n",
    "最终的目的还是找到这个$N(-d_2)$，但是认为需要重新算，取了一个新名字：Distance to Default，DD  \n",
    "KMV将负债分成了短期和长期负债，短期负债对企业违约的影响更大"
   ]
  },
  {
   "cell_type": "markdown",
   "id": "46c538d9-96f0-4bb9-a126-a28399c838ea",
   "metadata": {},
   "source": [
    "### 模型计算"
   ]
  },
  {
   "cell_type": "markdown",
   "id": "2d24642a-339c-456b-ac0e-4cc2231aab21",
   "metadata": {},
   "source": [
    "$DD = \\frac{V-K}{\\sigma_V}$，V是公司价值，K是违约门槛，分母是公司资产收益率的波动率(标准差)"
   ]
  },
  {
   "cell_type": "markdown",
   "id": "5dde4383-6da0-4083-8708-9ca2622deca5",
   "metadata": {},
   "source": [
    "#### K如何计算"
   ]
  },
  {
   "cell_type": "markdown",
   "id": "1d19060d-da5f-4fa0-ad70-25c8ab504b82",
   "metadata": {},
   "source": [
    "K是一个分段函数，和LT长期负债以及ST短期负债相关：\n",
    "- K为ST+0.5xLT，在LT/ST<1.5时使用，此时相当于短期债占比更多，违约风险更大\n",
    "- K为0.7ST+0.7LT，其他情况"
   ]
  },
  {
   "cell_type": "markdown",
   "id": "30156672-6753-47be-8078-ce1568133b73",
   "metadata": {},
   "source": [
    "### V公司价值"
   ]
  },
  {
   "cell_type": "markdown",
   "id": "1ace28b9-b0dd-4f2a-b7c5-afb6d8e05f86",
   "metadata": {},
   "source": [
    "就是公司的总资产价值"
   ]
  },
  {
   "cell_type": "markdown",
   "id": "6afb6ff0-471a-4e47-9a6f-b189ceec1605",
   "metadata": {},
   "source": [
    "### 资产收益率的波动率"
   ]
  },
  {
   "cell_type": "markdown",
   "id": "d582ac9c-83e4-4d96-bd02-25302ac9dd95",
   "metadata": {},
   "source": [
    "资产收益率就是ROA = 净利润 / 总资产  \n",
    "可以用公开数据求股票和资产收益率的一个相关系数：$\\rho_{s,v} = \\frac{\\Delta S}{S} / \\frac{\\Delta V}{V} = \\frac{\\Delta S}{\\Delta V}\\frac{V}{S}$  \n",
    "而期权中$N(d_1)$就是$\\Delta$，就是$\\frac{\\Delta S}{\\Delta V}$，所以$\\rho_{s,v} = N(d_1)\\frac{V}{S}$"
   ]
  },
  {
   "cell_type": "markdown",
   "id": "39a9c08a-0cc5-44c4-9528-2c5107fdf091",
   "metadata": {},
   "source": [
    "**这里要利用Merton模型的BSM公式**"
   ]
  },
  {
   "cell_type": "markdown",
   "id": "80e0c21e-26ed-40db-a20a-b7bf69ca0351",
   "metadata": {},
   "source": [
    "### 违约概率"
   ]
  },
  {
   "cell_type": "markdown",
   "id": "62ca2a9d-72e8-418f-bc02-e2f16d5b291a",
   "metadata": {},
   "source": [
    "以将DD看成$d_2$带入求$N(-d_2)$查表，但不是正态分布表，Merton模型是假设了正态分布"
   ]
  },
  {
   "cell_type": "markdown",
   "id": "408b2220-22de-4158-8ac6-01118f0a3b86",
   "metadata": {},
   "source": [
    "参考：\n",
    "- https://wiki.mbalib.com/wiki/KMV%E6%A8%A1%E5%9E%8B\n",
    "- https://www.zhihu.com/question/45498813/answer/115205895"
   ]
  }
 ],
 "metadata": {
  "kernelspec": {
   "display_name": "Python 3 (ipykernel)",
   "language": "python",
   "name": "python3"
  },
  "language_info": {
   "codemirror_mode": {
    "name": "ipython",
    "version": 3
   },
   "file_extension": ".py",
   "mimetype": "text/x-python",
   "name": "python",
   "nbconvert_exporter": "python",
   "pygments_lexer": "ipython3",
   "version": "3.9.7"
  }
 },
 "nbformat": 4,
 "nbformat_minor": 5
}
