{
 "cells": [
  {
   "cell_type": "markdown",
   "metadata": {},
   "source": [
    "# Trading Performance Evaluation and Manager Selection"
   ]
  },
  {
   "cell_type": "markdown",
   "metadata": {},
   "source": [
    "[回到code-for-CFA首页](./README.md)  "
   ]
  },
  {
   "cell_type": "markdown",
   "metadata": {},
   "source": [
    "Trading先讲交易策略，然后说评估，最后如何选择基金经理"
   ]
  },
  {
   "cell_type": "markdown",
   "metadata": {},
   "source": [
    "[R34 Trade Strategy and Execution](#R34-Trade-Strategy-and-Execution)  \n",
    "[R35 Portfolio Performance Evaluation](#R35-Portfolio-Performance-Evaluation)  \n",
    "[R36 Investment Manager Selection](#R36-Investment-Manager-Selection)  "
   ]
  },
  {
   "cell_type": "markdown",
   "metadata": {},
   "source": [
    "___"
   ]
  },
  {
   "cell_type": "markdown",
   "metadata": {},
   "source": [
    "## R34 Trade Strategy and Execution"
   ]
  },
  {
   "cell_type": "markdown",
   "metadata": {},
   "source": [
    "### 34.1 Motivations to Trade（交易动机）"
   ]
  },
  {
   "cell_type": "markdown",
   "metadata": {},
   "source": [
    "交易的目的是为了：\n",
    "- ①Profit seeking，赚钱，Trade urgency（交易紧急程度）取决于alpha decay的速度；\n",
    "- ②Risk management/hedging needs，风控，如duration match和beta management；\n",
    "- ③Cash flow needs，需要现金流，client-driven客户发起的，看交易紧急程度，如果很急就用collateral和margin call，如果不是很急就用长期的资产配置改变，为了减少中间过程中的cash drag（闲置资金的成本）可以投资ETF等；\n",
    "- ④其他：Corporate actions/index reconstitutions/margin calls"
   ]
  },
  {
   "cell_type": "markdown",
   "metadata": {},
   "source": [
    "### 34.2 Trading Strategies and Strategy Selection"
   ]
  },
  {
   "cell_type": "markdown",
   "metadata": {},
   "source": [
    "先讨论交易的输入，然后说benchmark的选取，最后看交易执行"
   ]
  },
  {
   "cell_type": "markdown",
   "metadata": {},
   "source": [
    "Trade Strategies：①Short-Term Alpha Trade；②Long-Term Alpha Trade；③Risk Rebalance Trade；④Client Redemption Trade；⑤New Mandate Trade\n"
   ]
  },
  {
   "cell_type": "markdown",
   "metadata": {},
   "source": [
    "#### 34.2.1 Trade Strategy Inputs"
   ]
  },
  {
   "cell_type": "markdown",
   "metadata": {},
   "source": [
    "输入包括：①Order Characteristics（订单特点）；②Security Characteristics（股票特点）；③Market Conditions（市场情况）；④User-Based Considerations: Trading Cost Risk Aversion（交易成本）；"
   ]
  },
  {
   "cell_type": "markdown",
   "metadata": {},
   "source": [
    "**订单特点**：看①Side是买还是卖，还有订单的②size大小，过大的订单会产生market impact  \n",
    "订单大小可以用relative size（%ADV，订单占每日平均成交）来衡量"
   ]
  },
  {
   "cell_type": "markdown",
   "metadata": {},
   "source": [
    "**股票特点**：\n",
    "- ①Security type，股票类型；\n",
    "- ②Short-term alpha，alpha短期还是长期；\n",
    "- ③Price volatility，股价波动，如果波动大则Execution risk执行风险高；\n",
    "- ④Security liquidity，流动性和波动性天然负相关。"
   ]
  },
  {
   "cell_type": "markdown",
   "metadata": {},
   "source": [
    "**市场情况**：看市场是正常还是liquidity crisis"
   ]
  },
  {
   "cell_type": "markdown",
   "metadata": {},
   "source": [
    "**交易成本**：FM看客户的RT能否承担市场风险  \n",
    "trader's dilemma：trading时如果α消失的很快，那么就要urgency，但是这可能会带来market impact，从而提升交易成本，所以要price-time trade-off"
   ]
  },
  {
   "cell_type": "markdown",
   "metadata": {},
   "source": [
    "#### 34.2.2 Reference Prices"
   ]
  },
  {
   "cell_type": "markdown",
   "metadata": {},
   "source": [
    "benchmark包括：①Pre-Trade（交易前）；②Intraday（当天）；③Post-Trade（交易后）；④Price Target（目标价格）"
   ]
  },
  {
   "cell_type": "markdown",
   "metadata": {},
   "source": [
    "交易的流程是：FM先做决定（Decision）-（delay cost）-> 交易员下单（Arrival）-（trading cost）->成交"
   ]
  },
  {
   "cell_type": "markdown",
   "metadata": {},
   "source": [
    "##### ☆34.2.2.1 Pre-Trade Benchmarks"
   ]
  },
  {
   "cell_type": "markdown",
   "metadata": {},
   "source": [
    "交易前包括：Decision、Previous、Opening、Arrival"
   ]
  },
  {
   "cell_type": "markdown",
   "metadata": {},
   "source": [
    "[1] Decision Price：是FM决定买卖股票时的价格   \n",
    "\n",
    "[2] Previous Price：是上一天的收盘价，量化的时候用的多，如果没给Decision Price可以用这个来做proxy   \n",
    "\n",
    "[3] Opening Price：当天的开盘价，被基本面FM用作Decision Price，没有overnight risk（隔夜风险，新信息已经体现了），但是由于参与了opening auction（集合竞价），所以自己也参与了，可能会影响开盘价，会有bias  \n",
    "\n",
    "[4] Arrival Price：交易员下单时的市场价，用这个做Benchmark的话证明FM希望下单就成交，urgency很高但是市场影响也会很大成本高"
   ]
  },
  {
   "cell_type": "markdown",
   "metadata": {},
   "source": [
    "##### 34.2.2.2 Intraday Benchmarks"
   ]
  },
  {
   "cell_type": "markdown",
   "metadata": {},
   "source": [
    "主要包括VWAP（成交量加权）和TWAP（时间加权），需要注意的是后面也会有同名的算法，但这里是benchmark，注意区分  \n",
    "因为是今天必须买到，所以日内交易更加注重交易成本，不担心execution risk而只关注α-decay  "
   ]
  },
  {
   "cell_type": "markdown",
   "metadata": {},
   "source": [
    "VWAP和TWAP都是当天结束后才可以知道价格，但是当天结束的时候可以gaming，不一定准  \n",
    "[1] Volume-weighted average price (VWAP) ，该股票当天不同成交价格乘该价格对应（成交量/总成交量）并求和，容易受到outlier（离群值）和spike（异常波动）的影响  \n",
    "[2] Time-weighted average price (TWAP)，按该股票当天所有成交价求平均"
   ]
  },
  {
   "cell_type": "markdown",
   "metadata": {},
   "source": [
    "##### 34.2.2.3 Post-Trade Benchmark"
   ]
  },
  {
   "cell_type": "markdown",
   "metadata": {},
   "source": [
    "closing price：收盘价，有点是可以最小化跟踪误差，缺点是收盘后才知道"
   ]
  },
  {
   "cell_type": "markdown",
   "metadata": {},
   "source": [
    "##### 34.2.2.4 Price Targe Benchmark"
   ]
  },
  {
   "cell_type": "markdown",
   "metadata": {},
   "source": [
    "FM定制一个benchmark给trader，一般是偏短期的alpha，urgency比较高"
   ]
  },
  {
   "cell_type": "markdown",
   "metadata": {},
   "source": [
    "#### 34.2.3 Trade Strategies"
   ]
  },
  {
   "cell_type": "markdown",
   "metadata": {},
   "source": [
    "（不考）交易策略有：Short-term alpha；Long-term alpha；Risk rebalance；Cash flow driven；New Mandate Trade；"
   ]
  },
  {
   "cell_type": "markdown",
   "metadata": {},
   "source": [
    "### ☆☆34.3 Trade Execution"
   ]
  },
  {
   "cell_type": "markdown",
   "metadata": {},
   "source": [
    "交易执行先看场所，再看算法，最后比较"
   ]
  },
  {
   "cell_type": "markdown",
   "metadata": {},
   "source": [
    "#### 34.3.1 Trade Implementation Choices"
   ]
  },
  {
   "cell_type": "markdown",
   "metadata": {},
   "source": [
    "两类，分别是higher-touch approaches（高接触服务，人工交易所）和ATS等系统交易和内部服务|"
   ]
  },
  {
   "cell_type": "markdown",
   "metadata": {},
   "source": [
    "[1] higher-touch approaches，相当于exchange交易所，监管更加严格，一般是大单  \n",
    "其中urgency很高就找dealer，因为有bid-ask price可以立刻成交，流动性差也找dealer去request for quota（RFQ）让dealer报价  \n",
    "urgency低就和broker成交\n",
    "\n",
    "[2] straightforward trades in liquid securities，相当于broker券商提供的，监管松一点  \n",
    "Alternative trading systems (ATS，美国)  multilateral trading facilities (MTF，英国)   \n",
    "Direct market access (DMA)交易所直连的，跳过broker追求速度快，CFA3级书上是说non-urgent（不着急）并且sufficient small（小单）  \n",
    "Dark pools，券商交易所给内部客户撮合的，撮合不了再去交易所报价，所以urgency程度很低  "
   ]
  },
  {
   "cell_type": "markdown",
   "metadata": {},
   "source": [
    "#### 34.3.2 Algorithmic Trading"
   ]
  },
  {
   "cell_type": "markdown",
   "metadata": {},
   "source": [
    "用算法主要是两个目的：Execution algorithms（最小化交易成本），Profit-seeking algorithms（寻求利润）"
   ]
  },
  {
   "cell_type": "markdown",
   "metadata": {},
   "source": [
    "##### 34.3.2.1 Scheduled（事先已经确定的）"
   ]
  },
  {
   "cell_type": "markdown",
   "metadata": {},
   "source": [
    "Scheduled类算法适合股价没有反向变动的，RT比较高、order size相对小（5%-10%）、urgency不是很高、流动性较好的股票"
   ]
  },
  {
   "cell_type": "markdown",
   "metadata": {},
   "source": [
    "[1] VWAP algorithms，尽可能的让下单平均价格接近市场的的VWAP价格  \n",
    "执行：将一天4小时交易按5分钟分拆（time slicing schedule），每5分钟算出过去5天/10天/20天的平均总交易量占全天总成交量的比例，接着按这个比例购买  \n",
    "优点：利用了流动性优势  \n",
    "缺点：流动性差的股票可能全天无法成交\n",
    "其他：因为按交易量来，所以开盘和收盘时交易量一般最大，整体是U-curve\n",
    "\n",
    "[2] TWAP algorithms，和VWAP的最大区别是等权重  \n",
    "执行：将一天4小时交易按5分钟分拆（time slicing schedule），然后等权购买   \n",
    "**优点：一定能够成交**  \n",
    "缺点：没有利用流动性优势\n",
    "\n",
    "[3] POV (percentage of volume) algorithms，又叫participation algorithms（参与度算法）  \n",
    "执行：和VWAP最大的区别是比例恒定，比如定10%乘上过去5天这个时间的平均成交量，相当于固定参与这么多   \n",
    "优点：利用了流动性优势  \n",
    "缺点：流动性差的股票可能全天无法成交；可能引发更多的交易成本"
   ]
  },
  {
   "cell_type": "markdown",
   "metadata": {},
   "source": [
    "##### 34.3.2.2 Liquidity-seeking（流动性算法）"
   ]
  },
  {
   "cell_type": "markdown",
   "metadata": {},
   "source": [
    "LS适合于大单要求**执行很快且不要有大的市场影响的**，比如virtue这个基金就是这么做的    \n",
    "海外交易所有Liquidity rebate，即如果提供流动性的话会给流动性回扣，可能很少只有万分之一  "
   ]
  },
  {
   "cell_type": "markdown",
   "metadata": {},
   "source": [
    "##### 34.3.2.3 Arrival Price（这是算法）"
   ]
  },
  {
   "cell_type": "markdown",
   "metadata": {},
   "source": [
    "让成交均价尽可能接近Arrival Price，相当于要很快执行  \n",
    "①这种算法非常激进；②担心未来价格变动方向不利；③所以urgency很高，execution risk很高；④**适合small/mid的单子**  "
   ]
  },
  {
   "cell_type": "markdown",
   "metadata": {},
   "source": [
    "##### 34.3.2.4 Dark strategies/liquidity aggregators"
   ]
  },
  {
   "cell_type": "markdown",
   "metadata": {},
   "source": [
    "在券商提供的dark pool交易，内部客户可以直接完成交易  \n",
    "适用于单子大大的、流动性差的、urgency不是很高的  \n",
    "优点：不如lit（交易所）市场透明，可以防止information leakage \n"
   ]
  },
  {
   "cell_type": "markdown",
   "metadata": {},
   "source": [
    "##### 34.3.2.5 Smart order routers (SORs，智能订单路由)"
   ]
  },
  {
   "cell_type": "markdown",
   "metadata": {},
   "source": [
    "不是算法，是服务，lit and dark（交易所和darkpool）都有，速度很快，能提升执行的成功率    \n",
    "可以continuously monitor持续盯市，但是要求：订单必须sufficiently small，urgency要很高，RT要很低  "
   ]
  },
  {
   "cell_type": "markdown",
   "metadata": {},
   "source": [
    "#### 34.3.3 Comparison of Markets（几大市场的比较）"
   ]
  },
  {
   "cell_type": "markdown",
   "metadata": {},
   "source": [
    "[1] Equities，股票市场，可以在交易所和dark pool交易  \n",
    "Large, urgent trades找dealer直接交易；Large, non-urgent trades找broker，可以用算法交易；small trades，不着急的小单可以用电子化交易   \n",
    "\n",
    "[2] Fixed Income，债券市场，电子化交易少，其他和股票市场一样  \n",
    "Large, urgent trades找dealer直接交易；Large, non-urgent trades找broker，可以用算法交易\n",
    "\n",
    "[3] Exchange-traded derivatives (options and futures)，场内衍生品，没有dealer和broker  \n",
    "电子化交易pervasive很广泛，算法交易也在大量使用中  \n",
    "Large, urgent trades，大单只能去sweep the book扫单；Large, non-urgent trades可以用算法慢慢下；small trades，不着急的小单可以用DMI（前面的交易所直连）\n",
    "\n",
    "[4] Off-exchange (OTC) derivatives，场外衍生品都是找broker  \n",
    "\n",
    "[5] Spot Foreign Exchange (Currency)\n",
    "Large, urgent trades找dealer直接交易；Large, non-urgent trades找broker，可以用算法交易；small trades，不着急的小单可以用DMI（前面的交易所直连）"
   ]
  },
  {
   "cell_type": "markdown",
   "metadata": {},
   "source": [
    "#### 34.4 Trade Evaluation "
   ]
  },
  {
   "cell_type": "markdown",
   "metadata": {},
   "source": [
    "对trader的评估，包括交易成本评估和交易执行情况"
   ]
  },
  {
   "cell_type": "markdown",
   "metadata": {},
   "source": [
    "#### ☆☆34.4.1 Implementation Shortfall "
   ]
  },
  {
   "cell_type": "markdown",
   "metadata": {},
   "source": [
    "IS = Paper return - Actual return  = Execution cost + Opportunity cost + Fees = Delay cost + Trading cost + Opportunity cost + Fees  \n",
    "举例：decision price是10元1000股，但是arrival price是10.3元1000股，最后成交是10.5元700股，现在涨到了12元  \n",
    "有时候考试也会让你算点位（亏损百分比），在这个时候就是拿IS去除(decision价格x总份额)\n",
    "\n",
    "[1] 收益法  \n",
    "Paper return是纸面收益，是最理想的成交价格的收益，比如10元买1000股，现在12元，一共赚了2000元  \n",
    "Actual return是实际收益，因为Arrival price已经是10.5元并且只成交了700股，所以这里是赚了1050元   \n",
    "不考虑fees的话最终IS是950元\n",
    "\n",
    "[2] 成本法  \n",
    "Delay cost，因为下单延迟造成的成本：（10.3 - 10） x 700 = 210  \n",
    "Trading cost，因为交易带来的成本：（10.5 - 10.3） x 700 = 140  \n",
    "Opportunity cost，因为没有交易到带来的机会成本：（12-10）x 300 = 600  \n",
    "不考虑fees的话最终IS是950元"
   ]
  },
  {
   "cell_type": "markdown",
   "metadata": {},
   "source": [
    "#### 34.4.2 Evaluation Trade Execution"
   ]
  },
  {
   "cell_type": "markdown",
   "metadata": {},
   "source": [
    "基础公式：$cost(bps) = Side \\times \\frac{(\\overline{P} - P_*)}{P_*} \\times 10000bps$  \n",
    "其中$P^*$就是benchmark，可以换成arrival/VWAP/TWAP/Close  \n",
    "\n",
    "☆market-adjusted cost：剔除大盘影响，减去因为下单 导致的大盘价格变动   \n",
    "在基础公式上减去 $\\beta \\times index cost(bps)$，$index cost = \\frac{index VWAP- index arrival}{index arrival}$  \n",
    "\n",
    "☆added-value：附加价值，是实际的成本减去之前预测的成本，名字其实不好，大于0的时候表现不好  \n",
    "added value = arrival cost - pre-trade cost"
   ]
  },
  {
   "cell_type": "markdown",
   "metadata": {},
   "source": [
    "### 34.5 Trade Governance（交易治理）"
   ]
  },
  {
   "cell_type": "markdown",
   "metadata": {},
   "source": [
    "只关注cost，还要考虑其他因素：\n",
    " execution price\n",
    " trading costs\n",
    " speed of execution\n",
    " likelihood of execution and settlement\n",
    " order size\n",
    " nature of the trade"
   ]
  },
  {
   "cell_type": "markdown",
   "metadata": {},
   "source": [
    "[回到Trading首页](#Trading-Performance-Evaluation-and-Manager-Selection)  "
   ]
  },
  {
   "cell_type": "markdown",
   "metadata": {},
   "source": [
    "___"
   ]
  },
  {
   "cell_type": "markdown",
   "metadata": {},
   "source": [
    "## R35 Portfolio Performance Evaluation"
   ]
  },
  {
   "cell_type": "markdown",
   "metadata": {},
   "source": [
    "Performance measurement：业绩计算，用TWRR和MWRR  \n",
    "Performance attribution：业绩归因，找到合适的Benchmark做MACRO和MICRO的归因  \n",
    "Performance appraisal：业绩评价，用risk-ajusted return和假设检验  "
   ]
  },
  {
   "cell_type": "markdown",
   "metadata": {},
   "source": [
    "业绩归因的会从MACRO宏观（sponsor出钱人角度）和MICRO（FM角度）来考虑  \n",
    "宏观先看大类资产股票和债券，然后看风格配置，每个风格对应不同的FM看其α  \n",
    "微观则是FM看α的来源，是行业、选股、择时"
   ]
  },
  {
   "cell_type": "markdown",
   "metadata": {},
   "source": [
    "### 35.1 Performance attribution"
   ]
  },
  {
   "cell_type": "markdown",
   "metadata": {},
   "source": [
    "是属于FM的MICRO（看α来源）的，有三种基础方法：  \n",
    "\n",
    "[1] Returns-based attribution，回归法，对组合和benchmark分别对相同因子回归，然后看敏感性$\\beta_{i,p} - \\beta_{i,b}$和贡献$(\\beta_{i,p} - \\beta_{i,b})\\times F_i$   \n",
    "适合于HF这种无法获得具体持仓的组合评估，优点是简单，缺点是不是很精确，容易受到data manipulation（数据阶段的影响）  \n",
    "[2] Holding-based，持仓法，看具体持仓贡献，无法对HF这种分析  \n",
    "[3] Transactions-based，交易法，对交易逐笔分析，最精确但是也是最耗时对数据要求最高的"
   ]
  },
  {
   "cell_type": "markdown",
   "metadata": {},
   "source": [
    "#### 35.1.1 Approaches to Return Attribution"
   ]
  },
  {
   "cell_type": "markdown",
   "metadata": {},
   "source": [
    "可以用普通数学法：Arithmetic attribution = R - B  \n",
    "但是更推荐更精确的几何法：Geometric attribution = $\\frac{1+R}{1+B}-1$"
   ]
  },
  {
   "cell_type": "markdown",
   "metadata": {},
   "source": [
    "对Equity有2种方法：The Brinson Model（持仓法）、Factor-Based Return Attribution (Carhart four-factor model)（回归法）   \n",
    "对Fixed Income有3种方法：Exposure decomposition—duration based（粗糙，持仓法）、Yield curve decomposition—duration based（精确，持仓法）、Yield curve decomposition—full repricing based（太精确交易法）"
   ]
  },
  {
   "cell_type": "markdown",
   "metadata": {},
   "source": [
    "##### 35.1.1.1 Equity：The Brinson Model"
   ]
  },
  {
   "cell_type": "markdown",
   "metadata": {},
   "source": [
    "allocation effect：选行业的能力   \n",
    "selection effect：行业内选股的能力  \n",
    "interaction effect：其他交叉项"
   ]
  },
  {
   "cell_type": "markdown",
   "metadata": {},
   "source": [
    "注意：brinson model还有一个精确模型，纵轴是从整个组合的benchmark的$R_B$开始的！因为是找α，所以看每个行业比总体组合收益更好更合理，此时选股和交叉项目不变，选行业的能力变成了$(R_{b,1} - R_B)(w_{p,1}-w_{b,1})$"
   ]
  },
  {
   "cell_type": "markdown",
   "metadata": {},
   "source": [
    "![](./pics/Trading/brinon_model.png)"
   ]
  },
  {
   "cell_type": "markdown",
   "metadata": {},
   "source": [
    "比如这里看EMEA简单的allocation effect = （50% -40%）x 1.5%   \n",
    "EMEA精确的allocation effect = （50% -40%）x（1.5% - 0.81%）  "
   ]
  },
  {
   "cell_type": "markdown",
   "metadata": {},
   "source": [
    "![](./pics/Trading/brinon_model_case.png)"
   ]
  },
  {
   "cell_type": "markdown",
   "metadata": {},
   "source": [
    "##### 35.1.1.2 Equity：Factor-Based Return Attribution(Carhart four-factor model)"
   ]
  },
  {
   "cell_type": "markdown",
   "metadata": {},
   "source": [
    "$R_p - R_f = \\alpha_p + b_{p1}RMRF + b_{p2}SMB + b_{p3}HML + b_{p4}WML + E_p$"
   ]
  },
  {
   "cell_type": "markdown",
   "metadata": {},
   "source": [
    "- ①RMRF是市场组合的收益因子Rm-Rf\n",
    "- ②SMB是小市值因子\n",
    "- ③HML是价值型因子\n",
    "- ④WML是momentum动量因子  \n",
    "- ⑤Ep是残差项"
   ]
  },
  {
   "cell_type": "markdown",
   "metadata": {},
   "source": [
    "![](./pics/Trading/carhart_model.png)"
   ]
  },
  {
   "cell_type": "markdown",
   "metadata": {},
   "source": [
    "##### 35.1.1.3 Fixed-income：Durtaion-based/Yield Curve Decomposition"
   ]
  },
  {
   "cell_type": "markdown",
   "metadata": {},
   "source": [
    "公司债配置了60%，长期债配置了50%，赌credit-spread下降，但实际收益为负数，证明并未下降"
   ]
  },
  {
   "cell_type": "markdown",
   "metadata": {},
   "source": [
    "![](./pics/Trading/duration_based_case1.png)\n",
    "![](./pics/Trading/duration_based_case2.png)"
   ]
  },
  {
   "cell_type": "markdown",
   "metadata": {},
   "source": [
    "然后将收益进行拆分，发现久期的影响为负，证明赌错了久期，但是curve effect为正，证明yield curve赌对了  \n",
    "而sector allocation为负数证明行业选错了，但是bond selection为正证明行业内选股不错  \n",
    "首先长期债券收益为负数，证明整体利率上升了，但是curve还有收益，证明curve整体flatten？？？"
   ]
  },
  {
   "cell_type": "markdown",
   "metadata": {},
   "source": [
    "![](./pics/Trading/duration_based_case3.png)"
   ]
  },
  {
   "cell_type": "markdown",
   "metadata": {},
   "source": [
    "##### 35.1.1.4 Fixed-income：Full Repricing based"
   ]
  },
  {
   "cell_type": "markdown",
   "metadata": {},
   "source": [
    "逐笔交易分析看α来源，发现yield整体收益为正数，roll是移仓收益这里由于高配了长期债所以为负数（比如买30year，卖5year，然后5年到期后又要卖5year）  "
   ]
  },
  {
   "cell_type": "markdown",
   "metadata": {},
   "source": [
    "shift是Duration，由于久期比Benchmark的高，这里为负数收益证明利率整体上升了  \n",
    "slope是flatten的，所以为正数；Curvature是曲度，看不太出来"
   ]
  },
  {
   "cell_type": "markdown",
   "metadata": {},
   "source": [
    "![](./pics/Trading/full_repricing_case.png)"
   ]
  },
  {
   "cell_type": "markdown",
   "metadata": {},
   "source": [
    "#### 35.1.2 Risk Attribution"
   ]
  },
  {
   "cell_type": "markdown",
   "metadata": {},
   "source": [
    "bottom up关注个股，被动投资时关注tracking risk，主动投资关注total risk     \n",
    "top down则关注allocation和selection，被动投资仍然关注tracking risk，主动投资也是做因子回归看total risk  \n",
    "factor based则用factor看tracking risk和total risk"
   ]
  },
  {
   "cell_type": "markdown",
   "metadata": {},
   "source": [
    "![](./pics/Trading/risk_attribution.png)"
   ]
  },
  {
   "cell_type": "markdown",
   "metadata": {},
   "source": [
    "#### 35.1.3 Return Attribution at Multiple Levels"
   ]
  },
  {
   "cell_type": "markdown",
   "metadata": {},
   "source": [
    "业绩归因的会从MACRO宏观（sponsor出钱人角度）和MICRO（FM角度）来考虑  \n",
    "宏观先看大类资产股票和债券，然后看风格配置，每个风格对应不同的FM看其α  \n",
    "微观则是FM看α的来源，是行业、选股、择时"
   ]
  },
  {
   "cell_type": "markdown",
   "metadata": {},
   "source": [
    "这里的MACRO也可以是管理几个账户的大FM角度，MICRO则是一个账户的FM角度"
   ]
  },
  {
   "cell_type": "markdown",
   "metadata": {},
   "source": [
    "### 35.2 Benchmarking Investments and Managers"
   ]
  },
  {
   "cell_type": "markdown",
   "metadata": {},
   "source": [
    "关于benchmark"
   ]
  },
  {
   "cell_type": "markdown",
   "metadata": {},
   "source": [
    "#### ☆☆35.2.1 Evaluating Benchmark Quality"
   ]
  },
  {
   "cell_type": "markdown",
   "metadata": {},
   "source": [
    "不是所有的基金都用大盘指数，质量好的Benchmark要求风格和组合也很像  \n",
    "P = M + S + A，其中M是市场benchmark收益率，S是style风格收益率，A才是active return，E=S+A  "
   ]
  },
  {
   "cell_type": "markdown",
   "metadata": {},
   "source": [
    "是如果$\\rho(A,S)=0$或$\\rho(E,S)=\\rho(S+A,S)=1$是最好的"
   ]
  },
  {
   "cell_type": "markdown",
   "metadata": {},
   "source": [
    "![](./pics/Trading/benchmark_quality.png)"
   ]
  },
  {
   "cell_type": "markdown",
   "metadata": {},
   "source": [
    "#### 35.2.2 Properties of a Valid Benchmark"
   ]
  },
  {
   "cell_type": "markdown",
   "metadata": {},
   "source": [
    "☆☆好的benchmark的7个特点（SAMURAI）：\n",
    "- ①Specified in advance，事先确定双方认可的  \n",
    "- ②Appropriate，合适的，风格很像\n",
    "- ③Measurable，可计算的\n",
    "- ④Unambiguous，清晰成分组成和权重\n",
    "- ⑤Reflective of current investment opinions，能反映FM的投资观点\n",
    "- ⑥Accountable，靠谱的\n",
    "- ⑦Investable，可投资复制的"
   ]
  },
  {
   "cell_type": "markdown",
   "metadata": {},
   "source": [
    "#### 35.2.3 Asset-Based Benchmarks"
   ]
  },
  {
   "cell_type": "markdown",
   "metadata": {},
   "source": [
    "7个常见的benchmark，结合SAMURAI:  \n",
    "    \n",
    "[1]absolute return benchmark，绝对benchmark，比如4%  \n",
    "SAMURAI：S满足，A不确定，M满足，U不满足，R不满足，A不确定，I不满足  \n",
    "优点是简单（M），缺点是不是可投资的资产（I）  \n",
    "\n",
    "[2]Broad market indexes，市场指数  \n",
    "SAMURAI：S满足，A不满足，M满足，U满足，R不满足，A满足，I满足   \n",
    "缺点是不合适（A），且没反映投资风格（A）  \n",
    "\n",
    "[3]Style indexes，风格指数  \n",
    "SAMURAI全部满足    \n",
    "唯一的缺点是不prudent，比如对风格的界定，多大算大多小算小盘股\n",
    "\n",
    "[4]Factor-model-based benchmarks，先用过去3年业绩和组合做回归，再将回归结果的带入到新的1年算出benchmark的收益  \n",
    "SAMURAI：S满足，A满足，M满足，U不满足，R满足，A不满足，I满足     \n",
    "优点是能找到α的来源，缺点是不够直观（A），也不清楚成分组成和权重（U）  \n",
    "\n",
    "[5]Returns-based benchmarks，市场风格指数，在factor-model的基础上和风格指数再次回归，让回归项都大于0且总和等于1  \n",
    "SAMURAI都满足\n",
    "\n",
    "[6]manager universe，中位数  \n",
    "SAMURAI：S不满足，A不确定，M满足，U不满足，R不满足，A不满足，I不满足     \n",
    "缺点：事先不知道中位数，可能有survivor bias（幸存者偏差），且依赖于compiler’s representations（别人的计算）可能算错  \n",
    "\n",
    "[7]Custom security-based benchmarks，量身定制的benchmark  \n",
    "SAMURAI全部满足  \n",
    "缺点是：可能expensive市场没有，也缺乏透明度"
   ]
  },
  {
   "cell_type": "markdown",
   "metadata": {},
   "source": [
    "#### 35.2.4 Benchmarking Alternative Investments\n"
   ]
  },
  {
   "cell_type": "markdown",
   "metadata": {},
   "source": [
    "**benchmark不好找时找替代品**：  \n",
    "\n",
    "[1]Benchmarking Hedge Fund Investments  \n",
    "HF的B比较难找，因为策略改变频繁、缺乏透明度、流动性差，也存在幸存者偏差和backfill bias    \n",
    "一般用①absolute，也可以用factor/return based\n",
    "\n",
    "[2]Benchmarking Real Estate Investments  \n",
    "房地产分的比较多，不能用用细分子类来代替整个房地产资产大类  \n",
    "有的RE的B自带杠杆，有的不带  \n",
    "\n",
    "[3]Benchmarking Private Equity  \n",
    "PE更多和自己比，可以用IRR/MOIC\n",
    "\n",
    "[4]Benchmarking Commodity Investments  \n",
    "期货的B难找，可以用futures-based\n",
    "\n",
    "[5]Benchmarking Managed Derivatives  \n",
    "衍生品根据单个策略走  \n",
    "\n",
    "[6]Benchmarking Distressed Securities\n",
    "困境证券可以用：Barclay Distressed Securities   "
   ]
  },
  {
   "cell_type": "markdown",
   "metadata": {},
   "source": [
    "**挑选合适的benchmark很重要**，否则容易GIGO，不要用大盘指数，可能会忽视基金经理的风格  \n",
    "FM看1年不好认为不好可能有representativeness bias，但是几年都不好可能就是benchmark没选择对了"
   ]
  },
  {
   "cell_type": "markdown",
   "metadata": {},
   "source": [
    "### 35.3 Performance Appraisal"
   ]
  },
  {
   "cell_type": "markdown",
   "metadata": {},
   "source": [
    "7个比率"
   ]
  },
  {
   "cell_type": "markdown",
   "metadata": {},
   "source": [
    "[1]Sharpe-ratio：$S_A = \\frac{R_A - r_f}{\\sigma_A}$  \n",
    "[2]Treynor-ratio：$T_A = \\frac{R_A - r_f}{\\beta_A}$  \n",
    "[3]Information-ratio：$IR_A = \\frac{R_A - r_f}{\\sigma_{r_A-r_B}}$  "
   ]
  },
  {
   "cell_type": "markdown",
   "metadata": {},
   "source": [
    "[4]Appraisal-ratio中的α来自于CAPM的Jensen's α： Rp - Re(=Rf + β(Rm-Rf))  \n",
    "$\\sigma_\\varepsilon$则是$SEE=\\sqrt{\\frac{SSE}{n-R}}$，而SSE = TSS - RSS，$R^2 = RSS/TSS$  \n",
    "不考虑自由度的情况下$\\sigma_\\varepsilon^2 = (1-R^2)\\sigma_p^2$  \n",
    "没给R2的时候可以用$\\sigma_\\varepsilon^2 = \\sigma_P^2 - \\beta^2\\sigma_M^2$，因为$R_P = \\alpha_i+\\beta_iR_M+\\varepsilon_i$"
   ]
  },
  {
   "cell_type": "markdown",
   "metadata": {},
   "source": [
    "[5]Sortino ratio，$SR_D = \\frac{R_A - MAR}{\\sigma_{downside}}$，其中MAR是Minimum Acceptable Return最小可接受收益  \n",
    "**缺点是：不同投资者的MAR不同，所以不可以比较Sortino Ratio！**  \n",
    "优点有：①关注了downside risk下行风险；②惩罚了 “harmful” volatility；③考虑了not symmetrical不对称风险；④用MAR适合capital preservation资本保守"
   ]
  },
  {
   "cell_type": "markdown",
   "metadata": {},
   "source": [
    "[6]Capture ratio，捕捉上行和下行的能力  \n",
    "upside capture ratio（UC） = Rp/Rb（Rb>0），大于1好，涨的多  \n",
    "downside capture ratio（DC）= Rp/Rb（Rb<0），小于1好，跌的少  \n",
    "CR = UC / DC，大于1好，涨多跌少"
   ]
  },
  {
   "cell_type": "markdown",
   "metadata": {},
   "source": [
    "[7]Drawdown，最大回撤  \n",
    "最大回撤周期是从上一个高点到恢复高点（recovered）的这段时间  \n",
    "从上一个最高点到现在最低点叫做max drawndown  \n",
    "现在最低点恢复的点位叫recovery begins"
   ]
  },
  {
   "cell_type": "markdown",
   "metadata": {},
   "source": [
    "![](./pics/Trading/drawdown.png)"
   ]
  },
  {
   "cell_type": "markdown",
   "metadata": {},
   "source": [
    "[回到Trading首页](#Trading-Performance-Evaluation-and-Manager-Selection)  "
   ]
  },
  {
   "cell_type": "markdown",
   "metadata": {},
   "source": [
    "___"
   ]
  },
  {
   "cell_type": "markdown",
   "metadata": {},
   "source": [
    "## R36 Investment Manager Selection"
   ]
  },
  {
   "cell_type": "markdown",
   "metadata": {},
   "source": [
    "用定量和定性的方法来选择manager"
   ]
  },
  {
   "cell_type": "markdown",
   "metadata": {},
   "source": [
    "### ☆☆36.1 Type I and Type II Errors in Manager Selection"
   ]
  },
  {
   "cell_type": "markdown",
   "metadata": {},
   "source": [
    "原假设：FM没用；备择假设：FM产生正价值"
   ]
  },
  {
   "cell_type": "markdown",
   "metadata": {},
   "source": [
    "Type I: Hiring or retaining a manager who subsequently underperforms expectations  \n",
    "去真：原假设真，这个FM真没用，但是我拒绝相信，所以还雇佣，**结果更糟糕**  \n",
    "Type II: Not hiring or firing a manager who subsequently outperforms, or performs in line with, expectations.   \n",
    "存伪：原假设假，这个FM有用，但是我选择相信原假设，所以开除他\n"
   ]
  },
  {
   "cell_type": "markdown",
   "metadata": {},
   "source": [
    "如何降低错误：①提升sample size；②FM的业绩不要差太多（均值接近）；③FM的离散度大，the wider the dispersion of the distributions。"
   ]
  },
  {
   "cell_type": "markdown",
   "metadata": {},
   "source": [
    "### 36.2 Quantitative Elements of Manager Selection "
   ]
  },
  {
   "cell_type": "markdown",
   "metadata": {},
   "source": [
    "风格分析Style Analysis：Returns-based style analysis (RBSA)、Holdings-based style analysis (HBSA)  \n",
    "其实在 [35.1 Performance attribution](#35.1 Performance attribution) 已经有体现了  \n",
    "\n",
    "[1]RBSA，使用回归的风格分析  \n",
    "优点是成本低、简单；但是缺点是不精确、发现drift慢（拿过去36个月，最近发现偏差已经晚了）  \n",
    "\n",
    "[2]HBSA，使用持仓进行风格分析  \n",
    "优点是快，准确；缺点是没有大量的数据，并且可能会有window dressing（要披露时就卖掉，之后再买回来）"
   ]
  },
  {
   "cell_type": "markdown",
   "metadata": {},
   "source": [
    "![](./pics/Trading/quant_style_analysis.png)"
   ]
  },
  {
   "cell_type": "markdown",
   "metadata": {},
   "source": [
    "### 36.3 Quanlitative Elements of Manager Selection "
   ]
  },
  {
   "cell_type": "markdown",
   "metadata": {},
   "source": [
    "定性的如：  \n",
    "\n",
    "[1]Investment Philosophy，投资哲学  \n",
    "要清晰简明：clear concise  \n",
    "要知行合一：consistent appropriate  \n",
    "α的来源是短期的behavioral efficiencies和长期的structural efficiencies（监管和政策）\n",
    "\n",
    "[2]Investment Personnel，员工分析  \n",
    "如key-person risk、incentive、turnover情况\n",
    "\n",
    "[3]Investment Decision-Making Process，投资决策和执行  \n",
    "对Signal Creation (Idea Generation)买卖信号，是否unique（有独到看法）、timely（即时）  \n",
    "对Signal Capture (Idea Implementation)信号的捕捉和执行  \n",
    "对Portfolio Construction构建的能力，关于风控和投资哲学是否一致  \n",
    "对Monitoring the Portfolio，的stop loss能力，hard stop loss是严格执行；soft stop loss是触发后人为判断    \n",
    "\n",
    "[4]Operational Due Diligence，尽调  \n",
    "Firm，公司是否sustainability可持续、收费如何，利益是否和投资者aligned with一致  \n",
    "Investment Vehicle，投资工具，如pooled和SMA（专户投资）  \n",
    "Evaluation of the Investment’s Terms，看条款，如流动性和交易费用"
   ]
  },
  {
   "cell_type": "markdown",
   "metadata": {},
   "source": [
    "SMA的好处：①ownership直接拥有；②customization定制化；③tax efficiency税收优惠；④transparency透明  \n",
    "缺点是：①cost成本高；②tracking risk跟踪风险，受到投资者的限制而不是FM自发；③investor behavior行为风险  \n",
    "\n",
    "交易费有3个要注意的：\n",
    "- ①symmetrical structure，费用的对称性，比如赚了给20%，亏是否还20% ：Computed fee = Base + Sharing of performance\n",
    "- ②bonus structure，有保底的费用：Computed fee = max (Base, Base plus sharing of positive performance)  \n",
    "- ③bonus not fully exposed to either upside or downside，有上下限封顶：Computed fee = max (Base, Base plus sharing of performance, to a limit)\n"
   ]
  },
  {
   "cell_type": "markdown",
   "metadata": {},
   "source": [
    "high-water mark指投资基金或账户价值达到的最高点。这一术语经常用于基于业绩的基金经理薪酬。HWM保证了经理不会因为业绩差而得到大笔的报酬。如果基金经理在一段时间内出现亏损，他必须努力让基金高于HWM，然后才能从管理的资产中获得绩效奖金。"
   ]
  },
  {
   "cell_type": "markdown",
   "metadata": {},
   "source": [
    "[回到Trading首页](#Trading-Performance-Evaluation-and-Manager-Selection)  "
   ]
  },
  {
   "cell_type": "markdown",
   "metadata": {},
   "source": [
    "___"
   ]
  }
 ],
 "metadata": {
  "kernelspec": {
   "display_name": "Python 3",
   "language": "python",
   "name": "python3"
  },
  "language_info": {
   "codemirror_mode": {
    "name": "ipython",
    "version": 3
   },
   "file_extension": ".py",
   "mimetype": "text/x-python",
   "name": "python",
   "nbconvert_exporter": "python",
   "pygments_lexer": "ipython3",
   "version": "3.7.3"
  }
 },
 "nbformat": 4,
 "nbformat_minor": 4
}
