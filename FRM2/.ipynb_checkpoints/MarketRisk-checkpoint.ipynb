{
 "cells": [
  {
   "cell_type": "markdown",
   "metadata": {},
   "source": [
    "# Market Risk Measurement and Management"
   ]
  },
  {
   "cell_type": "markdown",
   "metadata": {},
   "source": [
    "[回到FRM2级首页](./README.md)  "
   ]
  },
  {
   "cell_type": "markdown",
   "metadata": {},
   "source": [
    "[R1 VaR and other Risk Measures](#R1-VaR-and-other-Risk-Measures)  \n",
    "[R2 Risk Measurement for the Trading Book](#R2-Risk-Measurement-for-the-Trading-Book)  \n",
    "[R3 Modeling Dependence](#R3-Modeling-Dependence)  \n",
    "[R4 Empirical Approaches to Risk Metrics and Hedges](#R4-Empirical-Approaches-to-Risk-Metrics-and-Hedges)  \n",
    "[R5 Term Structure Models of Interest Rates](#R5-Term-Structure-Models-of-Interest-Rates)  \n",
    "[R6 Volatility Smiles](#R6-Volatility-Smiles)  "
   ]
  },
  {
   "cell_type": "markdown",
   "metadata": {},
   "source": [
    "R1讲风险测量，如ES和VaR  \n",
    "R2讲银行的风险测量，有Trading Book和Banking Book，是Trading和HTM的区别  \n",
    "R3风险因子之间的相关性，如1-year利率对30-year利率的影响  \n",
    "R4风险评估和对冲，要看风险因子的相关性      \n",
    "R5利率的期限结构，用利率二叉树，model1/2/3以及衍生模型  \n",
    "R6波动率微笑"
   ]
  },
  {
   "cell_type": "markdown",
   "metadata": {},
   "source": [
    "市场/操作/流动性风险的发展没有信用风险那么成熟，所以那些科目还在不断增加内容，在拓展"
   ]
  },
  {
   "cell_type": "markdown",
   "metadata": {},
   "source": [
    "___"
   ]
  },
  {
   "cell_type": "markdown",
   "metadata": {},
   "source": [
    "## R1 VaR and other Risk Measures"
   ]
  },
  {
   "cell_type": "markdown",
   "metadata": {},
   "source": [
    "Parametric approach 参数法：通过计算  \n",
    "- Normal VaR\n",
    "- Lognormal VaR"
   ]
  },
  {
   "cell_type": "markdown",
   "metadata": {},
   "source": [
    "Non-Parametric approach 非参数法：不通过计算\n",
    "- Historical Simulation，用100个样本的历史数据按损失从大到小排序，获得99VaR\n",
    "- Non-parametric density estimation"
   ]
  },
  {
   "cell_type": "markdown",
   "metadata": {},
   "source": [
    "Hybrid approach(Semi-Parametric approach) 混合法：  \n",
    "非参数法占据主导地位，比如Historical Simulation的基础上进行权重调整\n",
    "- Age-weighted(BRW)\n",
    "- Volatility-weighted(HW)\n",
    "- Correlation-weighted\n",
    "- Filtered historical simulation"
   ]
  },
  {
   "cell_type": "markdown",
   "metadata": {},
   "source": [
    "### 1.1 Parametric approach "
   ]
  },
  {
   "cell_type": "markdown",
   "metadata": {},
   "source": [
    "**Normal VaR**：假设算术收益率服从正态分布：$R_t = \\frac{P_t-P_{t-1}}{P_{t-1}} = \\frac{P_t}{P_{t-1}}-1$  \n",
    "（1）假设有点不靠谱，因为价格为正数，所以实际应该是$[-1, +\\infty]$\n",
    "\n",
    "（2）公式上：$VaR_s = - (\\mu - z_\\alpha\\sigma)$ 是百分比VaR  \n",
    "$VaR_s = - (\\mu - z_\\alpha\\sigma)P_{t-1}$ 是dollar VaR\n",
    "\n",
    "（3）VaR值是分布当中其中一个数"
   ]
  },
  {
   "cell_type": "markdown",
   "metadata": {},
   "source": [
    ">组合的VaR值和标的资产的VaR值的关系：$VaR_p = -(\\mu_p - z_{\\alpha}\\sigma_p)P_{t-1} = \\Delta \\times VaR_s$  \n",
    "$\\sigma_p$里面有相关系数的"
   ]
  },
  {
   "cell_type": "markdown",
   "metadata": {},
   "source": [
    "> $VaR_p = \\sqrt{VaR_1^2 + VaR_2^2 + 2 \\times \\rho \\times VaR_1 \\times VaR_2}$   \n",
    "前提：1)收益率要服从正态分布；2)构成组合的各个标的资产的均值都要为0！"
   ]
  },
  {
   "cell_type": "markdown",
   "metadata": {},
   "source": [
    "**Lognormal VaR**：假设价格服从对数正态分布  \n",
    "（1）假设上，因为价格服从对数正态分布，则$lnP_t$服从正态分布，所以几何收益率也服从正态分布：$R_t = ln\\frac{P_t}{P_{t-1}} = lnP_t - lnP_{t-1}$  \n",
    "\n",
    "（2）公式上，$VaR_s = loss = - (P_t - P_{t-1}) = - P_{t-1}(e^r-1)$，这里考虑了复利，则$- P_{t-1}(e^{\\mu-z\\sigma}-1) = (1-e^{\\mu-z\\sigma})P_{t-1}$，其百分比的VaR是$(1-e^{\\mu-z\\sigma})$"
   ]
  },
  {
   "cell_type": "markdown",
   "metadata": {},
   "source": [
    "**Q-Q图**：金融市场很多都不是正态分布，需要假设检验，可以用QQ图  \n",
    "（1）肥/瘦尾；（2）是否对称；（3）横纵坐标要注意"
   ]
  },
  {
   "cell_type": "markdown",
   "metadata": {},
   "source": [
    "![QQ图]()"
   ]
  },
  {
   "cell_type": "markdown",
   "metadata": {},
   "source": [
    "### 1.2 Non-Parametric approach"
   ]
  },
  {
   "cell_type": "markdown",
   "metadata": {},
   "source": [
    "金融市场大多数都不是正态分布的，所以要用非参数法，对数据的要求很低"
   ]
  },
  {
   "cell_type": "markdown",
   "metadata": {},
   "source": [
    "**假设：历史会重演** the near future will be sufficiently like the recent past."
   ]
  },
  {
   "cell_type": "markdown",
   "metadata": {},
   "source": [
    "优点：不用考虑方差和协方差矩阵，没有维度诅咒，curses of dimensionality；  \n",
    "缺点：置信区间离散，可能找不到95.1%的数（discrete confidence intervals）"
   ]
  },
  {
   "cell_type": "markdown",
   "metadata": {},
   "source": [
    "**Non-parametric density estimatio**：所以需要用非参数密度估计"
   ]
  },
  {
   "cell_type": "markdown",
   "metadata": {},
   "source": [
    "![非参数密度估计]()"
   ]
  },
  {
   "cell_type": "markdown",
   "metadata": {},
   "source": [
    "**Conditional VaR / ES** (expected shortfall)ES：也可以用ES，可以衡量尾部风险，解决VaR不满足次可加性的问题（subadditive risk measure），是超过VaR值的积分  \n",
    "参数法中的$VaR_p$计算要求正态分布并且均值为0，条件比较苛刻，所以就算$\\rho$为1也不是严格满足次可加性"
   ]
  },
  {
   "cell_type": "markdown",
   "metadata": {},
   "source": [
    "![例题]()"
   ]
  },
  {
   "cell_type": "markdown",
   "metadata": {},
   "source": [
    "非参数法优点：\n",
    "- ① 直观简单，收集数据排序即可，Intuitive and conceptually simple\n",
    "- ② 不依赖于参数的假设，**也是有假设的！**\n",
    "- ③ 不要求协方差矩阵，No need for covariance matrices, no curses of dimensionality;\n",
    "- ④ 数据容易得到，会放宽，更多数据容易获选，Use data that are (often) readily available;\n",
    "- ⑤ 可以加入一些参数的方法变成半参数法，“add-ons” to make them semiparametric"
   ]
  },
  {
   "cell_type": "markdown",
   "metadata": {},
   "source": [
    "非参数法的缺点（基本都是数据的问题）：\n",
    "- ① 非常依赖于历史数据，Very dependent on the historical data set;\n",
    "- ② 鬼魂效应，VaR对当前市场情况反应迟钝，Subject to ghost effect;\n",
    "- ③ 如果选取的历史数据平稳，VaR相对偏低\n",
    "- ④ 市场转变的时候反应慢，Have difficulty(act slowly) handling shifts(permanent risk change)\n",
    "- ⑤ 比较难处理极端损失，比如新冠损失会不会重演？没有统一的标准"
   ]
  },
  {
   "cell_type": "markdown",
   "metadata": {},
   "source": [
    "### 1.3 Hybrid Approach"
   ]
  },
  {
   "cell_type": "markdown",
   "metadata": {},
   "source": [
    "包含4个方法：BRW、HW、Correlation-weighted、Filtered historical simulation"
   ]
  },
  {
   "cell_type": "markdown",
   "metadata": {},
   "source": [
    "主要看BRW和HW，CW和FHS都继承了HW的优点，目前FHS的表现最好    \n",
    "Correlation-weighted和HW差不多，除了调整风险外，还要调整相关系数  \n",
    "Filtered historical simulation，滤波历史模拟法，相关系数都要考虑，所以用GARCH和AGARCH"
   ]
  },
  {
   "cell_type": "markdown",
   "metadata": {},
   "source": [
    "#### 1.3.1 Age-weighted(BRW)"
   ]
  },
  {
   "cell_type": "markdown",
   "metadata": {},
   "source": [
    "Boudoukh, Richardson and Whitelaw (BRW: 1998)"
   ]
  },
  {
   "cell_type": "markdown",
   "metadata": {},
   "source": [
    "**考虑**：ghost effect是对当前市场反应慢，是因为对所有的数据一视同仁的  \n",
    "所以BRW：①改变权重；②不变数据的大小  "
   ]
  },
  {
   "cell_type": "markdown",
   "metadata": {},
   "source": [
    "![BRW]()"
   ]
  },
  {
   "cell_type": "markdown",
   "metadata": {},
   "source": [
    "**举例**：比如损失有：-100（3天前）、-95（5天前）、-92（10天前）、-81（21天前）、-79（7天前）...  \n",
    "如果传统的HS方法，求5%VaR时就是79了  \n",
    "但是用BRW，并且λ=0.95的话，则要给-100权重：$\\frac{\\lambda^{3-1}(1-\\lambda)}{1-\\lambda^100}=4.5394\\%$，给-95权重：$\\frac{\\lambda^{5-1}(1-\\lambda)}{1-\\lambda^100}=4.0968\\%$，相加已经超过了5%，则选择-95作为VaR值"
   ]
  },
  {
   "cell_type": "markdown",
   "metadata": {},
   "source": [
    "BRW好处：\n",
    "- 是HS的扩展，λ=1时就是历史模拟法，provides a nice generalization of traditional HS\n",
    "- 降低了ghost effect，不会突然出现"
   ]
  },
  {
   "cell_type": "markdown",
   "metadata": {},
   "source": [
    "#### 1.3.2 Volatility-weighted(HW)"
   ]
  },
  {
   "cell_type": "markdown",
   "metadata": {},
   "source": [
    "Hull and White (HW 1998)"
   ]
  },
  {
   "cell_type": "markdown",
   "metadata": {},
   "source": [
    "100天前发生的事件和今天发生的事件相似度很高，单从时间长短判断不合适  \n",
    "HW要：①改变数据；②不变权重"
   ]
  },
  {
   "cell_type": "markdown",
   "metadata": {},
   "source": [
    "**考虑**：损失也可能是收益，loss : return，需要把收益的风险水平调整成一样的，对调后变成： $\\frac{r_{t,i}^*}{r_{t,i}} = \\frac{\\sigma_{T,i}}{\\sigma_{t,i}}$  \n",
    "其中$r_{t,i}^*$是调整后的损失数据，$r_{t,i}$是调整前的损失数据，$\\sigma_{T,i}$是当前的风险水平，$\\sigma_{t,i}$是t天前的风险水平"
   ]
  },
  {
   "cell_type": "markdown",
   "metadata": {},
   "source": [
    "**举例**：比如损失有：-100（3天前）、-95（5天前）、-92（10天前）、-81（21天前）、-79（7天前）...  \n",
    "今天的波动率水平为4.8%，-100对应的波动率是5%，则调整后的-100为：-100 x 4.8 / 5 = -96，然后**重新排序**！   \n",
    "之所以下降了是因为今天的波动率没有之前高"
   ]
  },
  {
   "cell_type": "markdown",
   "metadata": {},
   "source": [
    "HW的特点：\n",
    "- ①对当前的波动率敏感，而传统的VaR值都是是一个静态的\n",
    "- ②新数据创造的VaR值可能超过原始数据的VaR值"
   ]
  },
  {
   "cell_type": "markdown",
   "metadata": {},
   "source": [
    "### 1.2 Extreme Value"
   ]
  },
  {
   "cell_type": "markdown",
   "metadata": {},
   "source": [
    "极值理论，主要由GEV和POT，**适用于任何风险！**"
   ]
  },
  {
   "cell_type": "markdown",
   "metadata": {},
   "source": [
    "研究普通数据用CLT（中心极限定理），但时研究极值损失极端样本比较少（LFHS），不适用CLT，所以要换极值理论来研究"
   ]
  },
  {
   "cell_type": "markdown",
   "metadata": {},
   "source": [
    "#### 1.2.1 Generalized Extreme-Value Theory (Block Maxima)"
   ]
  },
  {
   "cell_type": "markdown",
   "metadata": {},
   "source": [
    "分区进行选择：\n",
    "Consider a sample of size n drawn from F(x), and let the maximum of this sample be Mn. If n is large, we can regard Mn as an extreme value."
   ]
  },
  {
   "cell_type": "markdown",
   "metadata": {},
   "source": [
    "但是有个缺点：比如按中位数分成4份，每份里面找损失最大的，但是可能某份里损失第二大的比其他三份还高  \n",
    "所以本来是极值，但是我们这种选择样本的方式选不到  "
   ]
  },
  {
   "cell_type": "markdown",
   "metadata": {},
   "source": [
    "服从广义极值分布：generalized extreme-value（GEV）  \n",
    "极值的均值μ，标准差σ，还有尾部分布𝜀（金融市场基本都是肥尾）  \n",
    "如果𝜀>0则服从Frechet分布（肥尾，类似T分布）；𝜀=0服从Gumbel（正常尾巴，类似正态分布）；𝜀<0则服从weibull分布（瘦尾）  "
   ]
  },
  {
   "cell_type": "markdown",
   "metadata": {},
   "source": [
    "#### 1.2.2 Peaks-Over-Threshold (POT) Approach"
   ]
  },
  {
   "cell_type": "markdown",
   "metadata": {},
   "source": [
    "超过门槛的就是极值，不会丢掉GEV中可能丢失的数据"
   ]
  },
  {
   "cell_type": "markdown",
   "metadata": {},
   "source": [
    "服从广义帕累托分布： generalized Pareto distribution   \n",
    "在寻找极值的考虑下，门槛越高越好，越服从广义帕累托分布！即使数据量小了  \n",
    "极值门槛和数据量需要进行权衡  "
   ]
  },
  {
   "cell_type": "markdown",
   "metadata": {},
   "source": [
    "![POT]()"
   ]
  },
  {
   "cell_type": "markdown",
   "metadata": {},
   "source": [
    "GEV有3个参数，POT有2个参数（有时候也有3个），单纯研究POT自己，那么门槛u也是一个参数，所以算是3个参数。GEV和POT的𝜀相同，都是指尾部指数"
   ]
  },
  {
   "cell_type": "markdown",
   "metadata": {},
   "source": [
    "### 1.3 Backtesting VaR"
   ]
  },
  {
   "cell_type": "markdown",
   "metadata": {},
   "source": [
    "回测就是假设检验，为了检验VaR是不是正确的，这里要学3个模型"
   ]
  },
  {
   "cell_type": "markdown",
   "metadata": {},
   "source": [
    "比如已知99%的VaR是10m，那么一年250天有15次loss超过VaR值，则VaR=10m是否正确？ "
   ]
  },
  {
   "cell_type": "markdown",
   "metadata": {},
   "source": [
    "**失败率**：faliure rate，超过VaR值的次数，服从一个二项分布（是否超过VaR值）  \n",
    "$f(x) = C_T^xp^x(1-p)^{T-x}$，期望$E(x)=pT$，方差$V(x)=p(1-p)T$ ，二项分布的终极是正态分布$z = \\frac{x-pT}{\\sqrt{p(1-p)T}} \\approx N(0,1)$  \n",
    "T是样本容量n，p是显著性水平的p"
   ]
  },
  {
   "cell_type": "markdown",
   "metadata": {},
   "source": [
    "![回测例题]()"
   ]
  },
  {
   "cell_type": "markdown",
   "metadata": {},
   "source": [
    "流程：\n",
    "- 1 构建原假设：VaR是对的；备择假设：VaR是错的\n",
    "- 2 计算检验统计量，$z = \\frac{x-np}{\\sqrt{np(1-p)}} $ =2.14\n",
    "- 3 找到显著性水平α=5%，是双尾的，算出critival value=1.96\n",
    "- 4 计算 大于 查表\n",
    "- 5 大于：拒绝原假设，reject H0；小于：不能拒绝原假设，fail to reject H0"
   ]
  },
  {
   "cell_type": "code",
   "execution_count": null,
   "metadata": {},
   "outputs": [],
   "source": []
  },
  {
   "cell_type": "markdown",
   "metadata": {},
   "source": [
    "[回到MarketRisk首页](#Market-Risk-Measurement-and-Management)  "
   ]
  },
  {
   "cell_type": "markdown",
   "metadata": {},
   "source": [
    "___"
   ]
  },
  {
   "cell_type": "markdown",
   "metadata": {},
   "source": [
    "## R2 Risk Measurement for the Trading Book"
   ]
  },
  {
   "cell_type": "markdown",
   "metadata": {},
   "source": [
    "[回到MarketRisk首页](#Market-Risk-Measurement-and-Management)  "
   ]
  },
  {
   "cell_type": "markdown",
   "metadata": {},
   "source": [
    "___"
   ]
  },
  {
   "cell_type": "markdown",
   "metadata": {},
   "source": [
    "## R3 Modeling Dependence"
   ]
  },
  {
   "cell_type": "markdown",
   "metadata": {},
   "source": [
    "[回到MarketRisk首页](#Market-Risk-Measurement-and-Management)  "
   ]
  },
  {
   "cell_type": "markdown",
   "metadata": {},
   "source": [
    "___"
   ]
  },
  {
   "cell_type": "markdown",
   "metadata": {},
   "source": [
    "## R4 Empirical Approaches to Risk Metrics and Hedges"
   ]
  },
  {
   "cell_type": "markdown",
   "metadata": {},
   "source": [
    "[回到MarketRisk首页](#Market-Risk-Measurement-and-Management)  "
   ]
  },
  {
   "cell_type": "markdown",
   "metadata": {},
   "source": [
    "___"
   ]
  },
  {
   "cell_type": "markdown",
   "metadata": {},
   "source": [
    "## R5 Term Structure Models of Interest Rates"
   ]
  },
  {
   "cell_type": "markdown",
   "metadata": {},
   "source": [
    "[回到MarketRisk首页](#Market-Risk-Measurement-and-Management)  "
   ]
  },
  {
   "cell_type": "markdown",
   "metadata": {},
   "source": [
    "___"
   ]
  },
  {
   "cell_type": "markdown",
   "metadata": {},
   "source": [
    "## R6 Volatility Smiles"
   ]
  },
  {
   "cell_type": "markdown",
   "metadata": {},
   "source": [
    "[回到MarketRisk首页](#Market-Risk-Measurement-and-Management)  "
   ]
  },
  {
   "cell_type": "markdown",
   "metadata": {},
   "source": [
    "___"
   ]
  }
 ],
 "metadata": {
  "kernelspec": {
   "display_name": "Python 3",
   "language": "python",
   "name": "python3"
  },
  "language_info": {
   "codemirror_mode": {
    "name": "ipython",
    "version": 3
   },
   "file_extension": ".py",
   "mimetype": "text/x-python",
   "name": "python",
   "nbconvert_exporter": "python",
   "pygments_lexer": "ipython3",
   "version": "3.7.3"
  }
 },
 "nbformat": 4,
 "nbformat_minor": 4
}
